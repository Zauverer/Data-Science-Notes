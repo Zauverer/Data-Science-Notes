{
  "nbformat": 4,
  "nbformat_minor": 0,
  "metadata": {
    "colab": {
      "provenance": []
    },
    "kernelspec": {
      "name": "python3",
      "display_name": "Python 3"
    },
    "language_info": {
      "name": "python"
    }
  },
  "cells": [
    {
      "cell_type": "markdown",
      "source": [
        "Librerías"
      ],
      "metadata": {
        "id": "BBmjZPXAOB36"
      }
    },
    {
      "cell_type": "code",
      "execution_count": null,
      "metadata": {
        "id": "s43PnDHrN2F2"
      },
      "outputs": [],
      "source": [
        "import numpy as np"
      ]
    },
    {
      "cell_type": "markdown",
      "source": [
        "Numpy"
      ],
      "metadata": {
        "id": "NALMXkQyS2uO"
      }
    },
    {
      "cell_type": "code",
      "source": [
        "#calcular media y mediana\n",
        "x = [1, 4, 8, 10, 12]\n",
        "np.mean(x)\n",
        "np.median(x)"
      ],
      "metadata": {
        "colab": {
          "base_uri": "https://localhost:8080/"
        },
        "id": "CV3Zo5e5N62_",
        "outputId": "1940de8b-3f57-4219-c542-51b0f0cffe5b"
      },
      "execution_count": null,
      "outputs": [
        {
          "output_type": "execute_result",
          "data": {
            "text/plain": [
              "8.0"
            ]
          },
          "metadata": {},
          "execution_count": 3
        }
      ]
    },
    {
      "cell_type": "code",
      "source": [
        "# height_in is available as a regular list\n",
        "\n",
        "# Create a numpy array from height_in: np_height_in\n",
        "np_height_in = np.array(height_in)\n",
        "\n",
        "# Print out np_height_in\n",
        "print(np_height_in)\n",
        "\n",
        "# Convert np_height_in to m: np_height_m\n",
        "np_height_m = np_height_in * 0.0254\n",
        "\n",
        "# Print np_height_m\n",
        "print(np_height_m)"
      ],
      "metadata": {
        "id": "xzctMjjlWExl"
      },
      "execution_count": null,
      "outputs": []
    },
    {
      "cell_type": "code",
      "source": [
        "# Create array from height_in with metric units: np_height_m\n",
        "np_height_m = np.array(height_in) * 0.0254\n",
        "\n",
        "# Create array from weight_lb with metric units: np_weight_kg\n",
        "np_weight_kg =  np.array(weight_lb) * 0.453592\n",
        "\n",
        "# Calculate the BMI: bmi\n",
        "bmi = np_weight_kg/(np_height_m*np_height_m)\n",
        "\n",
        "# Print out bmi\n",
        "print(bmi)"
      ],
      "metadata": {
        "id": "GMLwirhtWbeA"
      },
      "execution_count": null,
      "outputs": []
    },
    {
      "cell_type": "code",
      "source": [
        "# Calculate the BMI: bmi\n",
        "np_height_m = np.array(height_in) * 0.0254\n",
        "np_weight_kg = np.array(weight_lb) * 0.453592\n",
        "bmi = np_weight_kg / np_height_m ** 2\n",
        "\n",
        "# Create the light array\n",
        "ligth = bmi < 21\n",
        "\n",
        "# Print out light\n",
        "print(ligth)\n",
        "\n",
        "# Print out BMIs of all baseball players whose BMI is below 21\n",
        "print(bmi[ligth])"
      ],
      "metadata": {
        "id": "nCtAVrJNXMq4"
      },
      "execution_count": null,
      "outputs": []
    },
    {
      "cell_type": "code",
      "source": [
        "# Store weight and height lists as numpy arrays\n",
        "np_weight_lb = np.array(weight_lb)\n",
        "np_height_in = np.array(height_in)\n",
        "\n",
        "# Print out the weight at index 50\n",
        "print(np_weight_lb[50])\n",
        "\n",
        "# Print out sub-array of np_height_in: index 100 up to and including index 110\n",
        "print(np_height_in[100:111])"
      ],
      "metadata": {
        "id": "trXs5admXVKG"
      },
      "execution_count": null,
      "outputs": []
    },
    {
      "cell_type": "code",
      "source": [
        "# Create baseball, a list of lists\n",
        "baseball = [[180, 78.4],\n",
        "            [215, 102.7],\n",
        "            [210, 98.5],\n",
        "            [188, 75.2]]\n",
        "\n",
        "# Import numpy\n",
        "import numpy as np\n",
        "\n",
        "# Create a 2D numpy array from baseball: np_baseball\n",
        "np_baseball = np.array(baseball)\n",
        "\n",
        "# Print out the type of np_baseball\n",
        "print(type(np_baseball))\n",
        "\n",
        "# Print out the shape of np_baseball\n",
        "print(np_baseball.shape)"
      ],
      "metadata": {
        "id": "GXxNq7a_XbCW"
      },
      "execution_count": null,
      "outputs": []
    },
    {
      "cell_type": "code",
      "source": [
        "# baseball is available as a regular list of lists\n",
        "\n",
        "# Import numpy package\n",
        "import numpy as np\n",
        "\n",
        "# Create a 2D numpy array from baseball: np_baseball\n",
        "\n",
        "np_baseball = np.array(baseball)\n",
        "# Print out the shape of np_baseball\n",
        "print(np_baseball.shape)"
      ],
      "metadata": {
        "id": "aMEC8LViXgvX"
      },
      "execution_count": null,
      "outputs": []
    },
    {
      "cell_type": "code",
      "source": [
        "# Create np_baseball (2 cols)\n",
        "np_baseball = np.array(baseball)\n",
        "\n",
        "# Print out the 50th row of np_baseball\n",
        "print(np_baseball[49,:])\n",
        "\n",
        "# Select the entire second column of np_baseball: np_weight_lb\n",
        "np_weight_lb = np_baseball[:,1]\n",
        "\n",
        "# Print out height of 124th player\n",
        "print(np_baseball[123,0])"
      ],
      "metadata": {
        "id": "e4Fj7F3KXjhC"
      },
      "execution_count": null,
      "outputs": []
    },
    {
      "cell_type": "code",
      "source": [
        "# heights and positions are available as lists\n",
        "\n",
        "# Import numpy\n",
        "import numpy as np\n",
        "\n",
        "# Convert positions and heights to numpy arrays: np_positions, np_heights\n",
        "np_positions = np.array(positions)\n",
        "np_heights = np.array(heights)\n",
        "# Heights of the goalkeepers: gk_heights\n",
        "gk_heights = np_heights[np_positions == 'GK']\n",
        "# Heights of the other players: other_heights\n",
        "other_heights = np_heights[np_positions != 'GK']\n",
        "\n",
        "# Print out the median height of goalkeepers. Replace 'None'\n",
        "print(\"Median height of goalkeepers: \" + str(np.median(gk_heights)))\n",
        "\n",
        "# Print out the median height of other players. Replace 'None'\n",
        "print(\"Median height of other players: \" + str(np.median(other_heights)))\n"
      ],
      "metadata": {
        "id": "tuxbxHazOM3a"
      },
      "execution_count": null,
      "outputs": []
    }
  ]
}